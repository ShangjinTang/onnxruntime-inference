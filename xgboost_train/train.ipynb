{
 "cells": [
  {
   "cell_type": "code",
   "execution_count": 83,
   "id": "3a3430d7-9e0c-47bf-a06e-28d6216b77e9",
   "metadata": {
    "execution": {
     "iopub.execute_input": "2023-06-10T02:24:27.388827Z",
     "iopub.status.busy": "2023-06-10T02:24:27.388582Z",
     "iopub.status.idle": "2023-06-10T02:24:27.448795Z",
     "shell.execute_reply": "2023-06-10T02:24:27.448031Z",
     "shell.execute_reply.started": "2023-06-10T02:24:27.388812Z"
    },
    "tags": []
   },
   "outputs": [
    {
     "name": "stdout",
     "output_type": "stream",
     "text": [
      "[[6.1 2.8 4.7 1.2]\n",
      " [5.7 3.8 1.7 0.3]\n",
      " [7.7 2.6 6.9 2.3]\n",
      " [6.  2.9 4.5 1.5]\n",
      " [6.8 2.8 4.8 1.4]]\n",
      "[1 0 2 1 1]\n",
      "[1 0 2 1 1]\n"
     ]
    }
   ],
   "source": [
    "from xgboost import XGBClassifier\n",
    "# read data\n",
    "from sklearn.datasets import load_iris\n",
    "from sklearn.model_selection import train_test_split\n",
    "data = load_iris()\n",
    "X_train, X_test, y_train, y_test = train_test_split(data['data'], data['target'], test_size=.2, random_state=42)\n",
    "# create model instance\n",
    "xgbc_model = XGBClassifier(n_estimators=2, max_depth=2, learning_rate=1, objective='binary:logistic')\n",
    "# fit model\n",
    "xgbc_model.fit(X_train, y_train)\n",
    "# make predictions\n",
    "y_pred = xgbc_model.predict(X_test)\n",
    "\n",
    "xgbc_model.save_model('xgbc_iris.model')\n",
    "\n",
    "print(X_test[:5])\n",
    "print(y_test[:5])\n",
    "print(y_pred[:5])"
   ]
  },
  {
   "cell_type": "code",
   "execution_count": 84,
   "id": "ccbfe4b6-d83f-4c33-a693-dc39d3392519",
   "metadata": {
    "execution": {
     "iopub.execute_input": "2023-06-10T02:24:27.778243Z",
     "iopub.status.busy": "2023-06-10T02:24:27.777946Z",
     "iopub.status.idle": "2023-06-10T02:24:30.795725Z",
     "shell.execute_reply": "2023-06-10T02:24:30.794890Z",
     "shell.execute_reply.started": "2023-06-10T02:24:27.778227Z"
    },
    "tags": []
   },
   "outputs": [
    {
     "name": "stdout",
     "output_type": "stream",
     "text": [
      "Defaulting to user installation because normal site-packages is not writeable\n",
      "Requirement already satisfied: docutils in /home/sol/.local/lib/python3.10/site-packages (0.20.1)\n",
      "Defaulting to user installation because normal site-packages is not writeable\n",
      "Requirement already satisfied: mlprodict in /home/sol/.local/lib/python3.10/site-packages (0.9.1883)\n",
      "Requirement already satisfied: cython in /home/sol/.local/lib/python3.10/site-packages (from mlprodict) (0.29.35)\n",
      "Requirement already satisfied: scipy>=1.0.0 in /home/sol/.local/lib/python3.10/site-packages (from mlprodict) (1.10.1)\n",
      "Requirement already satisfied: pybind11 in /home/sol/.local/lib/python3.10/site-packages (from mlprodict) (2.10.4)\n",
      "Requirement already satisfied: onnx>=1.12.0 in /home/sol/.local/lib/python3.10/site-packages (from mlprodict) (1.14.0)\n",
      "Requirement already satisfied: numpy>=1.21.5 in /home/sol/.local/lib/python3.10/site-packages (from mlprodict) (1.23.5)\n",
      "Requirement already satisfied: protobuf>=3.20.2 in /home/sol/.local/lib/python3.10/site-packages (from onnx>=1.12.0->mlprodict) (4.22.3)\n",
      "Requirement already satisfied: typing-extensions>=3.6.2.1 in /home/sol/.local/lib/python3.10/site-packages (from onnx>=1.12.0->mlprodict) (4.4.0)\n"
     ]
    }
   ],
   "source": [
    "# !pip3 install onnx\n",
    "# !pip3 install onnxconverter_common\n",
    "# !pip3 install onnxmltools\n",
    "# !pip3 install onnxruntime\n",
    "# !pip3 install pyquickhelper\n",
    "!pip3 install docutils\n",
    "!pip3 install mlprodict"
   ]
  },
  {
   "cell_type": "code",
   "execution_count": null,
   "id": "d093d6ee-dfcc-4dd5-af06-c746ed342db6",
   "metadata": {
    "tags": []
   },
   "outputs": [],
   "source": []
  },
  {
   "cell_type": "code",
   "execution_count": 87,
   "id": "528d3cc4-7c79-4b69-8c37-9835eab00fbf",
   "metadata": {
    "execution": {
     "iopub.execute_input": "2023-06-10T02:25:40.158359Z",
     "iopub.status.busy": "2023-06-10T02:25:40.158057Z",
     "iopub.status.idle": "2023-06-10T02:25:40.208274Z",
     "shell.execute_reply": "2023-06-10T02:25:40.206600Z",
     "shell.execute_reply.started": "2023-06-10T02:25:40.158343Z"
    },
    "tags": []
   },
   "outputs": [
    {
     "data": {
      "text/html": [
       "<style>#sk-container-id-6 {color: black;background-color: white;}#sk-container-id-6 pre{padding: 0;}#sk-container-id-6 div.sk-toggleable {background-color: white;}#sk-container-id-6 label.sk-toggleable__label {cursor: pointer;display: block;width: 100%;margin-bottom: 0;padding: 0.3em;box-sizing: border-box;text-align: center;}#sk-container-id-6 label.sk-toggleable__label-arrow:before {content: \"▸\";float: left;margin-right: 0.25em;color: #696969;}#sk-container-id-6 label.sk-toggleable__label-arrow:hover:before {color: black;}#sk-container-id-6 div.sk-estimator:hover label.sk-toggleable__label-arrow:before {color: black;}#sk-container-id-6 div.sk-toggleable__content {max-height: 0;max-width: 0;overflow: hidden;text-align: left;background-color: #f0f8ff;}#sk-container-id-6 div.sk-toggleable__content pre {margin: 0.2em;color: black;border-radius: 0.25em;background-color: #f0f8ff;}#sk-container-id-6 input.sk-toggleable__control:checked~div.sk-toggleable__content {max-height: 200px;max-width: 100%;overflow: auto;}#sk-container-id-6 input.sk-toggleable__control:checked~label.sk-toggleable__label-arrow:before {content: \"▾\";}#sk-container-id-6 div.sk-estimator input.sk-toggleable__control:checked~label.sk-toggleable__label {background-color: #d4ebff;}#sk-container-id-6 div.sk-label input.sk-toggleable__control:checked~label.sk-toggleable__label {background-color: #d4ebff;}#sk-container-id-6 input.sk-hidden--visually {border: 0;clip: rect(1px 1px 1px 1px);clip: rect(1px, 1px, 1px, 1px);height: 1px;margin: -1px;overflow: hidden;padding: 0;position: absolute;width: 1px;}#sk-container-id-6 div.sk-estimator {font-family: monospace;background-color: #f0f8ff;border: 1px dotted black;border-radius: 0.25em;box-sizing: border-box;margin-bottom: 0.5em;}#sk-container-id-6 div.sk-estimator:hover {background-color: #d4ebff;}#sk-container-id-6 div.sk-parallel-item::after {content: \"\";width: 100%;border-bottom: 1px solid gray;flex-grow: 1;}#sk-container-id-6 div.sk-label:hover label.sk-toggleable__label {background-color: #d4ebff;}#sk-container-id-6 div.sk-serial::before {content: \"\";position: absolute;border-left: 1px solid gray;box-sizing: border-box;top: 0;bottom: 0;left: 50%;z-index: 0;}#sk-container-id-6 div.sk-serial {display: flex;flex-direction: column;align-items: center;background-color: white;padding-right: 0.2em;padding-left: 0.2em;position: relative;}#sk-container-id-6 div.sk-item {position: relative;z-index: 1;}#sk-container-id-6 div.sk-parallel {display: flex;align-items: stretch;justify-content: center;background-color: white;position: relative;}#sk-container-id-6 div.sk-item::before, #sk-container-id-6 div.sk-parallel-item::before {content: \"\";position: absolute;border-left: 1px solid gray;box-sizing: border-box;top: 0;bottom: 0;left: 50%;z-index: -1;}#sk-container-id-6 div.sk-parallel-item {display: flex;flex-direction: column;z-index: 1;position: relative;background-color: white;}#sk-container-id-6 div.sk-parallel-item:first-child::after {align-self: flex-end;width: 50%;}#sk-container-id-6 div.sk-parallel-item:last-child::after {align-self: flex-start;width: 50%;}#sk-container-id-6 div.sk-parallel-item:only-child::after {width: 0;}#sk-container-id-6 div.sk-dashed-wrapped {border: 1px dashed gray;margin: 0 0.4em 0.5em 0.4em;box-sizing: border-box;padding-bottom: 0.4em;background-color: white;}#sk-container-id-6 div.sk-label label {font-family: monospace;font-weight: bold;display: inline-block;line-height: 1.2em;}#sk-container-id-6 div.sk-label-container {text-align: center;}#sk-container-id-6 div.sk-container {/* jupyter's `normalize.less` sets `[hidden] { display: none; }` but bootstrap.min.css set `[hidden] { display: none !important; }` so we also need the `!important` here to be able to override the default hidden behavior on the sphinx rendered scikit-learn.org. See: https://github.com/scikit-learn/scikit-learn/issues/21755 */display: inline-block !important;position: relative;}#sk-container-id-6 div.sk-text-repr-fallback {display: none;}</style><div id=\"sk-container-id-6\" class=\"sk-top-container\"><div class=\"sk-text-repr-fallback\"><pre>Pipeline(steps=[(&#x27;xgb&#x27;,\n",
       "                 XGBClassifier(base_score=None, booster=None, callbacks=None,\n",
       "                               colsample_bylevel=None, colsample_bynode=None,\n",
       "                               colsample_bytree=None,\n",
       "                               early_stopping_rounds=None,\n",
       "                               enable_categorical=False, eval_metric=None,\n",
       "                               feature_types=None, gamma=None, gpu_id=None,\n",
       "                               grow_policy=None, importance_type=None,\n",
       "                               interaction_constraints=None, learning_rate=1,\n",
       "                               max_bin=None, max_cat_threshold=None,\n",
       "                               max_cat_to_onehot=None, max_delta_step=None,\n",
       "                               max_depth=2, max_leaves=None,\n",
       "                               min_child_weight=None, missing=nan,\n",
       "                               monotone_constraints=None, n_estimators=2,\n",
       "                               n_jobs=None, num_parallel_tree=None,\n",
       "                               objective=&#x27;multi:softprob&#x27;, predictor=None, ...))])</pre><b>In a Jupyter environment, please rerun this cell to show the HTML representation or trust the notebook. <br />On GitHub, the HTML representation is unable to render, please try loading this page with nbviewer.org.</b></div><div class=\"sk-container\" hidden><div class=\"sk-item sk-dashed-wrapped\"><div class=\"sk-label-container\"><div class=\"sk-label sk-toggleable\"><input class=\"sk-toggleable__control sk-hidden--visually\" id=\"sk-estimator-id-11\" type=\"checkbox\" ><label for=\"sk-estimator-id-11\" class=\"sk-toggleable__label sk-toggleable__label-arrow\">Pipeline</label><div class=\"sk-toggleable__content\"><pre>Pipeline(steps=[(&#x27;xgb&#x27;,\n",
       "                 XGBClassifier(base_score=None, booster=None, callbacks=None,\n",
       "                               colsample_bylevel=None, colsample_bynode=None,\n",
       "                               colsample_bytree=None,\n",
       "                               early_stopping_rounds=None,\n",
       "                               enable_categorical=False, eval_metric=None,\n",
       "                               feature_types=None, gamma=None, gpu_id=None,\n",
       "                               grow_policy=None, importance_type=None,\n",
       "                               interaction_constraints=None, learning_rate=1,\n",
       "                               max_bin=None, max_cat_threshold=None,\n",
       "                               max_cat_to_onehot=None, max_delta_step=None,\n",
       "                               max_depth=2, max_leaves=None,\n",
       "                               min_child_weight=None, missing=nan,\n",
       "                               monotone_constraints=None, n_estimators=2,\n",
       "                               n_jobs=None, num_parallel_tree=None,\n",
       "                               objective=&#x27;multi:softprob&#x27;, predictor=None, ...))])</pre></div></div></div><div class=\"sk-serial\"><div class=\"sk-item\"><div class=\"sk-estimator sk-toggleable\"><input class=\"sk-toggleable__control sk-hidden--visually\" id=\"sk-estimator-id-12\" type=\"checkbox\" ><label for=\"sk-estimator-id-12\" class=\"sk-toggleable__label sk-toggleable__label-arrow\">XGBClassifier</label><div class=\"sk-toggleable__content\"><pre>XGBClassifier(base_score=None, booster=None, callbacks=None,\n",
       "              colsample_bylevel=None, colsample_bynode=None,\n",
       "              colsample_bytree=None, early_stopping_rounds=None,\n",
       "              enable_categorical=False, eval_metric=None, feature_types=None,\n",
       "              gamma=None, gpu_id=None, grow_policy=None, importance_type=None,\n",
       "              interaction_constraints=None, learning_rate=1, max_bin=None,\n",
       "              max_cat_threshold=None, max_cat_to_onehot=None,\n",
       "              max_delta_step=None, max_depth=2, max_leaves=None,\n",
       "              min_child_weight=None, missing=nan, monotone_constraints=None,\n",
       "              n_estimators=2, n_jobs=None, num_parallel_tree=None,\n",
       "              objective=&#x27;multi:softprob&#x27;, predictor=None, ...)</pre></div></div></div></div></div></div></div>"
      ],
      "text/plain": [
       "Pipeline(steps=[('xgb',\n",
       "                 XGBClassifier(base_score=None, booster=None, callbacks=None,\n",
       "                               colsample_bylevel=None, colsample_bynode=None,\n",
       "                               colsample_bytree=None,\n",
       "                               early_stopping_rounds=None,\n",
       "                               enable_categorical=False, eval_metric=None,\n",
       "                               feature_types=None, gamma=None, gpu_id=None,\n",
       "                               grow_policy=None, importance_type=None,\n",
       "                               interaction_constraints=None, learning_rate=1,\n",
       "                               max_bin=None, max_cat_threshold=None,\n",
       "                               max_cat_to_onehot=None, max_delta_step=None,\n",
       "                               max_depth=2, max_leaves=None,\n",
       "                               min_child_weight=None, missing=nan,\n",
       "                               monotone_constraints=None, n_estimators=2,\n",
       "                               n_jobs=None, num_parallel_tree=None,\n",
       "                               objective='multi:softprob', predictor=None, ...))])"
      ]
     },
     "execution_count": 87,
     "metadata": {},
     "output_type": "execute_result"
    }
   ],
   "source": [
    "from pyquickhelper.helpgen.graphviz_helper import plot_graphviz\n",
    "from mlprodict.onnxrt import OnnxInference\n",
    "import numpy\n",
    "import onnxruntime as rt\n",
    "from sklearn.datasets import load_iris, load_diabetes, make_classification\n",
    "from sklearn.model_selection import train_test_split\n",
    "from sklearn.pipeline import Pipeline\n",
    "from sklearn.preprocessing import StandardScaler\n",
    "from xgboost import XGBClassifier, XGBRegressor, DMatrix, train as train_xgb\n",
    "from skl2onnx.common.data_types import FloatTensorType\n",
    "from skl2onnx import convert_sklearn, to_onnx, update_registered_converter\n",
    "from skl2onnx.common.shape_calculator import (\n",
    "    calculate_linear_classifier_output_shapes,\n",
    "    calculate_linear_regressor_output_shapes)\n",
    "from onnxmltools.convert.xgboost.operator_converters.XGBoost import (\n",
    "    convert_xgboost)\n",
    "from onnxmltools.convert import convert_xgboost as convert_xgboost_booster\n",
    "\n",
    "xgbc = XGBClassifier()\n",
    "xgbc.load_model(\"xgbc_iris.model\")\n",
    "\n",
    "pipe = Pipeline([('xgb', xgb_from_model)])\n",
    "\n",
    "pipe.fit(X_test, y_test)\n"
   ]
  },
  {
   "cell_type": "code",
   "execution_count": 89,
   "id": "49bbc258-0533-49d2-9d4c-ab966d7b54f5",
   "metadata": {
    "execution": {
     "iopub.execute_input": "2023-06-10T02:25:59.438263Z",
     "iopub.status.busy": "2023-06-10T02:25:59.437515Z",
     "iopub.status.idle": "2023-06-10T02:25:59.452392Z",
     "shell.execute_reply": "2023-06-10T02:25:59.451552Z",
     "shell.execute_reply.started": "2023-06-10T02:25:59.438247Z"
    },
    "tags": []
   },
   "outputs": [
    {
     "name": "stdout",
     "output_type": "stream",
     "text": [
      "predict [1 0 2 1 1]\n",
      "predict_proba [{0: 0.05465603619813919, 1: 0.8903928995132446, 2: 0.0549510195851326}]\n"
     ]
    }
   ],
   "source": [
    "update_registered_converter(\n",
    "    XGBClassifier, 'XGBoostXGBClassifier',\n",
    "    calculate_linear_classifier_output_shapes, convert_xgboost,\n",
    "    options={'nocl': [True, False], 'zipmap': [True, False, 'columns']})\n",
    "\n",
    "model_onnx = convert_sklearn(\n",
    "    pipe, 'pipeline_xgboost',\n",
    "    [('input', FloatTensorType([None, 4]))],\n",
    "    target_opset={'': 12, 'ai.onnx.ml': 4})\n",
    "\n",
    "# And save.\n",
    "with open(\"xgbc_iris.onnx\", \"wb\") as f:\n",
    "    f.write(model_onnx.SerializeToString())\n",
    "\n",
    "sess = rt.InferenceSession(\"xgbc_iris.onnx\")\n",
    "pred_onx = sess.run(None, {\"input\": X_test[:5].astype(numpy.float32)})\n",
    "print(\"predict\", pred_onx[0])\n",
    "print(\"predict_proba\", pred_onx[1][:1])"
   ]
  },
  {
   "cell_type": "code",
   "execution_count": 96,
   "id": "c77951bd-ebfa-4e8a-8c16-5af95ce0f81d",
   "metadata": {
    "execution": {
     "iopub.execute_input": "2023-06-10T12:16:16.265997Z",
     "iopub.status.busy": "2023-06-10T12:16:16.264383Z",
     "iopub.status.idle": "2023-06-10T12:16:20.073487Z",
     "shell.execute_reply": "2023-06-10T12:16:20.071982Z",
     "shell.execute_reply.started": "2023-06-10T12:16:16.265971Z"
    },
    "tags": []
   },
   "outputs": [
    {
     "name": "stdout",
     "output_type": "stream",
     "text": [
      "Defaulting to user installation because normal site-packages is not writeable\n",
      "Requirement already satisfied: onnx-tf in /home/sol/.local/lib/python3.10/site-packages (1.10.0)\n",
      "Requirement already satisfied: PyYAML in /home/sol/.local/lib/python3.10/site-packages (from onnx-tf) (6.0)\n",
      "Requirement already satisfied: tensorflow-addons in /home/sol/.local/lib/python3.10/site-packages (from onnx-tf) (0.20.0)\n",
      "Requirement already satisfied: onnx>=1.10.2 in /home/sol/.local/lib/python3.10/site-packages (from onnx-tf) (1.14.0)\n",
      "Requirement already satisfied: numpy in /home/sol/.local/lib/python3.10/site-packages (from onnx>=1.10.2->onnx-tf) (1.23.5)\n",
      "Requirement already satisfied: protobuf>=3.20.2 in /home/sol/.local/lib/python3.10/site-packages (from onnx>=1.10.2->onnx-tf) (4.22.3)\n",
      "Requirement already satisfied: typing-extensions>=3.6.2.1 in /home/sol/.local/lib/python3.10/site-packages (from onnx>=1.10.2->onnx-tf) (4.4.0)\n",
      "Requirement already satisfied: packaging in /usr/lib/python3.10/site-packages (from tensorflow-addons->onnx-tf) (23.0)\n",
      "Requirement already satisfied: typeguard<3.0.0,>=2.7 in /home/sol/.local/lib/python3.10/site-packages (from tensorflow-addons->onnx-tf) (2.13.3)\n"
     ]
    }
   ],
   "source": [
    "!pip install onnx-tf"
   ]
  },
  {
   "cell_type": "code",
   "execution_count": 97,
   "id": "3bf0687d-292e-42be-8235-e8dce5321606",
   "metadata": {
    "execution": {
     "iopub.execute_input": "2023-06-10T12:16:26.688424Z",
     "iopub.status.busy": "2023-06-10T12:16:26.688193Z",
     "iopub.status.idle": "2023-06-10T12:16:27.165550Z",
     "shell.execute_reply": "2023-06-10T12:16:27.164666Z",
     "shell.execute_reply.started": "2023-06-10T12:16:26.688408Z"
    },
    "tags": []
   },
   "outputs": [
    {
     "name": "stdout",
     "output_type": "stream",
     "text": [
      "Converting models with optimization style 'Fixed' and level 'all'\n",
      "Converting optimized ONNX model /home/sol/notebook/xgboost/xgbc_iris.onnx to ORT format model /home/sol/notebook/xgboost/xgbc_iris.ort\n",
      "Converted 1/1 models successfully.\n",
      "Generating config file from ORT format models with optimization style 'Fixed' and level 'all'\n",
      "2023-06-10 20:16:27,024 ort_format_model.utils [INFO] - Created config in /home/sol/notebook/xgboost/xgbc_iris.required_operators.config\n",
      "Converting models with optimization style 'Runtime' and level 'all'\n",
      "Converting optimized ONNX model /home/sol/notebook/xgboost/xgbc_iris.onnx to ORT format model /home/sol/notebook/xgboost/xgbc_iris.with_runtime_opt.ort\n",
      "Converted 1/1 models successfully.\n",
      "Converting models again without runtime optimizations to generate a complete config file. These converted models are temporary and will be deleted.\n",
      "Converting optimized ONNX model /home/sol/notebook/xgboost/xgbc_iris.onnx to ORT format model /home/sol/notebook/xgboost/tmp9egpu7fy.without_runtime_opt/xgbc_iris.ort\n",
      "Converted 1/1 models successfully.\n",
      "Generating config file from ORT format models with optimization style 'Runtime' and level 'all'\n",
      "2023-06-10 20:16:27,029 ort_format_model.utils [INFO] - Created config in /home/sol/notebook/xgboost/xgbc_iris.required_operators.with_runtime_opt.config\n"
     ]
    }
   ],
   "source": [
    "!python -m onnxruntime.tools.convert_onnx_models_to_ort xgbc_iris.onnx"
   ]
  },
  {
   "cell_type": "markdown",
   "id": "434af21c-03f2-46aa-b18c-ad90c30e66cd",
   "metadata": {
    "execution": {
     "iopub.execute_input": "2023-06-10T02:46:14.401629Z",
     "iopub.status.busy": "2023-06-10T02:46:14.401396Z",
     "iopub.status.idle": "2023-06-10T02:46:14.577731Z",
     "shell.execute_reply": "2023-06-10T02:46:14.576664Z",
     "shell.execute_reply.started": "2023-06-10T02:46:14.401613Z"
    },
    "tags": []
   },
   "source": [
    "# Note: cannot convert xgboost model (.onnx) to tensorflow model\n",
    "\n",
    "## Conversion code\n",
    "\n",
    "```\n",
    "import onnx\n",
    "from onnx_tf.backend import prepare\n",
    "\n",
    "# Load the ONNX model\n",
    "onnx_model = onnx.load('xgbc_iris.onnx')\n",
    "\n",
    "# Convert the ONNX model to TensorFlow format\n",
    "tf_model = prepare(onnx_model)\n",
    "\n",
    "# Save the TensorFlow model\n",
    "tf_model.export_graph('xgbc_iris.tf')\n",
    "```\n",
    "\n",
    "## Conversion error\n",
    "\n",
    "```\n",
    "# Error: \"BackendIsNotSupposedToImplementIt: TreeEnsembleClassifier is not implemented.\"\n",
    "```"
   ]
  },
  {
   "cell_type": "code",
   "execution_count": null,
   "id": "cdff1b32-1cdf-40e1-8ba5-8b5cde23cc2d",
   "metadata": {},
   "outputs": [],
   "source": []
  }
 ],
 "metadata": {
  "kernelspec": {
   "display_name": "Python 3 (ipykernel)",
   "language": "python",
   "name": "python3"
  },
  "language_info": {
   "codemirror_mode": {
    "name": "ipython",
    "version": 3
   },
   "file_extension": ".py",
   "mimetype": "text/x-python",
   "name": "python",
   "nbconvert_exporter": "python",
   "pygments_lexer": "ipython3",
   "version": "3.10.10"
  }
 },
 "nbformat": 4,
 "nbformat_minor": 5
}
